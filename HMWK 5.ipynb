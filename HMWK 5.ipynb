{
 "cells": [
  {
   "cell_type": "markdown",
   "metadata": {},
   "source": [
    "#  Sample mean, mode and standard deviation"
   ]
  },
  {
   "cell_type": "raw",
   "metadata": {},
   "source": [
    "After declareting some variables, the program ask for what it is wanted to calculate.\n",
    "Then it will continue operating if a valid answer value is typed, if not the program ends, printing a message asking for a valid option.\n",
    "If a correct value is introduced, then it asks for values until the word 'calculated' is typed. To do so, a while loop was used, with the condition that i == 0, and since i was declareted as 0 in the begining it will be true until we type 'caclculate', because this will make that i increases 1, and that will make false the condition, making the program to stop asking for values.\n",
    "If we type a numerical value, then it will be first assigned to a new local variable as a float character (because we are working with numbers with decimals) and it will increase the value of 'n' in one unit. 'n' is the number of values introduced.\n",
    "Then, the sample mean is calculated, even after the if that will print the sample mean. Why? Because in the standard deviation is neccesary, so if we calculate the sample mean inside the if, we will not have a value for sample mean if we want to calculate the sample deviation.\n",
    "Then the ifs are stablished, each one calculating something based on user's answer.\n",
    "If the answer was 1, then it prints the sample mean.\n",
    "If the answer was 2, then it calculates and prints the mode.\n",
    "To calculate the mode, it was done with a new command, the .count. First, the initial value of the array spl[] is taken and it is counted. Then a for loop is created, that increases 'j' from 0 to n, which will count the value of the position 'i' and will compare it with the initial value, that will be the same at first. After that it will make some comparisons. \n",
    "If the initial value i is more repeated than the initial value, then the value i will be assigned to the initial value, the mode array will be declared as 0 and the new initial value will be introduced. This will search for the most repeated value and will insert it in the array. \n",
    "Bu if the value i is equal to the initial value and it is not already in the array mode, then it will assign to the initial value the value i, and will insert the number counted in value i, in the position i of the array mode. This is just in the case there are more than one mode.\n",
    "At last it will print the mode.\n",
    "And finally, if the answer was 3, the standar deviation will be calculated. First, state a for loop, increasing i from 0 to n.\n",
    "Then do the corresponding operation. In this case I just did the divition implied in the formula at the end, when the summatory was already made. After that, the variable 'vart', which represents the varianze, is square rooted to obtain the standard deviation, and it is printed.\n"
   ]
  },
  {
   "cell_type": "code",
   "execution_count": 6,
   "metadata": {},
   "outputs": [
    {
     "name": "stdout",
     "output_type": "stream",
     "text": [
      "Calculate: (Answer with 1, 2 or 3) \n",
      "1) Sample mean \n",
      "2) Mode \n",
      "3) Standard Deviation \n",
      "3\n",
      "Type ' calculate ' to stop asking for values\n",
      "Value 1: 1\n",
      "Value 2: 1\n",
      "Value 3: 1\n",
      "Value 4: 1\n",
      "Value 5: 1\n",
      "Value 6: 1\n",
      "Value 7: calculate\n",
      "0.0\n",
      "Standard deviation: 0.0\n"
     ]
    }
   ],
   "source": [
    "n = 0\n",
    "spl = []\n",
    "var = 0\n",
    "i = 0\n",
    "mode = []\n",
    "vari = 0\n",
    "\n",
    "smd = int(input(\"Calculate: (Answer with 1, 2 or 3) \\n1) Sample mean \\n2) Mode \\n3) Standard Deviation \\n\"))\n",
    "\n",
    "if smd != 1 and smd != 2 and smd != 3:\n",
    "    print(\"Type a valid answer (1,2 or 3)\")\n",
    "    i = 1\n",
    "\n",
    "if smd == 1 or smd == 2 or smd == 3:\n",
    "    print(\"Type \\' calculate \\' to stop asking for values\")\n",
    "    \n",
    "while i == 0:\n",
    "    x = input(f\"Value {n+1}: \")\n",
    "    \n",
    "    if x == 'calculate':\n",
    "        i = 1\n",
    "    \n",
    "    if x != 'calculate':\n",
    "        y = float(x)\n",
    "        spl.append(y)\n",
    "        n += 1         \n",
    "     \n",
    "\n",
    "sm = sum(spl)/n\n",
    "\n",
    "if smd == 1:\n",
    "    print(f\"Sample mean: {sm}\")\n",
    "\n",
    "elif smd == 2:\n",
    "    vali = spl.count(spl[0])\n",
    "    for j in range(0,n):\n",
    "        var = spl[j]\n",
    "        valr = spl.count(var)\n",
    "        if valr > vali:\n",
    "            vali = valr\n",
    "            mode = []\n",
    "            mode.insert(0,var)\n",
    "        elif valr == vali and var not in mode:\n",
    "            vali = valr\n",
    "            mode.insert(i,var)\n",
    "            \n",
    "    print(f\"Mode: {mode}\")\n",
    "    \n",
    "    \n",
    "elif smd == 3:\n",
    "    for i in range(0,n):\n",
    "        vari += (spl[i] - sm)**2\n",
    "        \n",
    "    vart = vari / (n - 1)\n",
    "    print(vart)\n",
    "    sd = (vart)**(1/2)\n",
    "    print(f\"Standard deviation: {sd}\")\n",
    "    \n",
    "    \n",
    "    "
   ]
  },
  {
   "cell_type": "code",
   "execution_count": null,
   "metadata": {},
   "outputs": [],
   "source": []
  },
  {
   "cell_type": "code",
   "execution_count": null,
   "metadata": {},
   "outputs": [],
   "source": []
  }
 ],
 "metadata": {
  "kernelspec": {
   "display_name": "Python 3",
   "language": "python",
   "name": "python3"
  },
  "language_info": {
   "codemirror_mode": {
    "name": "ipython",
    "version": 3
   },
   "file_extension": ".py",
   "mimetype": "text/x-python",
   "name": "python",
   "nbconvert_exporter": "python",
   "pygments_lexer": "ipython3",
   "version": "3.7.3"
  }
 },
 "nbformat": 4,
 "nbformat_minor": 2
}
