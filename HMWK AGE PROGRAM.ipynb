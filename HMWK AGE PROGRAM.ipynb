{
 "cells": [
  {
   "cell_type": "markdown",
   "metadata": {},
   "source": [
    "# HOMEWORK2"
   ]
  },
  {
   "cell_type": "raw",
   "metadata": {},
   "source": [
    "Ask for the age of three students and return the sample mean."
   ]
  },
  {
   "cell_type": "code",
   "execution_count": 2,
   "metadata": {},
   "outputs": [
    {
     "name": "stdout",
     "output_type": "stream",
     "text": [
      "What is the age of student 1? 4\n",
      "What is the age of student 2? 9\n",
      "What is the age of student 3? 7\n",
      "The sample mean is 6.666666666666667\n"
     ]
    }
   ],
   "source": [
    "s1 = int(input(\"What is the age of student 1? \"))\n",
    "s2 = int(input(\"What is the age of student 2? \"))\n",
    "s3 = int(input(\"What is the age of student 3? \"))\n",
    "mean = (s1 + s2 + s3)/3\n",
    "print(f\"The sample mean is: {mean}\")"
   ]
  },
  {
   "cell_type": "raw",
   "metadata": {},
   "source": [
    "First I created 3 variables, one for each student, asignig a value to it, using the command input() to print a message which asks for the age of the student and storaging the value introduced in the variable. Also declaring the variable as an integer with the usage of int().\n",
    "Then a variable for the mean was created, whice value will be equal to the addition of the 3 variables, which storage the age's values, divided by 3 to obtain the sample mean.\n",
    "Finally the variable's value is printed with a print, using the 'f' before the double-quotes to use the .format to print the variable \"mean\" by putting the variable's name between keys inside a text."
   ]
  }
 ],
 "metadata": {
  "kernelspec": {
   "display_name": "Python 3",
   "language": "python",
   "name": "python3"
  },
  "language_info": {
   "codemirror_mode": {
    "name": "ipython",
    "version": 3
   },
   "file_extension": ".py",
   "mimetype": "text/x-python",
   "name": "python",
   "nbconvert_exporter": "python",
   "pygments_lexer": "ipython3",
   "version": "3.7.3"
  }
 },
 "nbformat": 4,
 "nbformat_minor": 2
}
