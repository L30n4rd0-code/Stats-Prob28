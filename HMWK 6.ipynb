{
 "cells": [
  {
   "cell_type": "markdown",
   "metadata": {},
   "source": [
    "# Trimmed Mean"
   ]
  },
  {
   "cell_type": "raw",
   "metadata": {},
   "source": [
    "This program begins asking for the values of the sample until the user types 'calculate', meanwhile it storages the values in an array.\n",
    "Secondly, it sorts the array, asks for the % of the trimmed mean, and make calculations of how many values will be substracted.\n",
    "Then it starts a for, to add the values of the trimmed sample, and finally it calculates the trimmed mean with the sumatory of the values divided by the number of values in the trimmed mean (represented by m, which was being increased in 1 unit each time the for loop increases the value of k)\n"
   ]
  },
  {
   "cell_type": "code",
   "execution_count": 7,
   "metadata": {},
   "outputs": [
    {
     "name": "stdout",
     "output_type": "stream",
     "text": [
      "Type 'calculate' to stop requesting for values\n",
      "Introduce the value 1: 2.5\n",
      "Introduce the value 2: 2.8\n",
      "Introduce the value 3: 2.8\n",
      "Introduce the value 4: 2.9\n",
      "Introduce the value 5: 3.0\n",
      "Introduce the value 6: 3.3\n",
      "Introduce the value 7: 3.4\n",
      "Introduce the value 8: 3.6\n",
      "Introduce the value 9: 3.7\n",
      "Introduce the value 10: 4.0\n",
      "Introduce the value 11: 4.4\n",
      "Introduce the value 12: 4.8\n",
      "Introduce the value 13: 4.8\n",
      "Introduce the value 14: 5.2\n",
      "Introduce the value 15: 5.6\n",
      "Introduce the value 16: calculate\n",
      "Trimmed mean %: 20\n",
      "Trimmed mean: 3.677777777777777\n"
     ]
    }
   ],
   "source": [
    "i = 0\n",
    "z = 0\n",
    "n = 0\n",
    "m = 0\n",
    "spl = []\n",
    "mspl = []\n",
    "\n",
    "# Introduction of values\n",
    "print(\"Type \\'calculate\\' to stop requesting for values\")\n",
    "while i == 0:\n",
    "    x = input(f\"Introduce the value {n+1}: \")\n",
    "    \n",
    "    if x != 'calculate':\n",
    "        y = float(x)\n",
    "        spl.append(y)\n",
    "        n += 1\n",
    "        \n",
    "    if x == 'calculate':\n",
    "        i = 1\n",
    "\n",
    "#Sort of array and introduction fo the trim    \n",
    "spl.sort()\n",
    "trm = int(input(\"Trimmed mean %: \"))\n",
    "l = int(n * (trm/100))\n",
    "\n",
    "#Trimming\n",
    "for k in range(l, n-l):\n",
    "    z += spl[k]\n",
    "    m += 1\n",
    "\n",
    "#Calculating trimmed mean\n",
    "trmean = z / m\n",
    "print(f\"Trimmed mean: {trmean}\")\n",
    "    \n",
    "\n",
    "\n",
    "\n",
    "        \n"
   ]
  },
  {
   "cell_type": "code",
   "execution_count": null,
   "metadata": {},
   "outputs": [],
   "source": []
  }
 ],
 "metadata": {
  "kernelspec": {
   "display_name": "Python 3",
   "language": "python",
   "name": "python3"
  },
  "language_info": {
   "codemirror_mode": {
    "name": "ipython",
    "version": 3
   },
   "file_extension": ".py",
   "mimetype": "text/x-python",
   "name": "python",
   "nbconvert_exporter": "python",
   "pygments_lexer": "ipython3",
   "version": "3.7.3"
  }
 },
 "nbformat": 4,
 "nbformat_minor": 2
}
