{
 "cells": [
  {
   "cell_type": "markdown",
   "metadata": {},
   "source": [
    "# A GOOD FIRST PROGRAM\n",
    "\n",
    "The frist exercise contains the classic introductory code, just to see how programming is and an oportunity to identify some simple but important parts, needed to understand in interpret the environment.\n"
   ]
  },
  {
   "cell_type": "code",
   "execution_count": 35,
   "metadata": {},
   "outputs": [
    {
     "name": "stdout",
     "output_type": "stream",
     "text": [
      "Hello World\n",
      "Hello Again\n",
      "I like typing this.\n",
      "This is fun.\n",
      "Yay! Printing.\n",
      "I'd much rather you 'not'.\n",
      "I \"said\" do not touch this.\n"
     ]
    }
   ],
   "source": [
    "print(\"Hello World\")\n",
    "print(\"Hello Again\")\n",
    "print(\"I like typing this.\")\n",
    "print(\"This is fun.\")\n",
    "print('Yay! Printing.')\n",
    "print(\"I'd much rather you 'not'.\")\n",
    "print('I \"said\" do not touch this.')\n"
   ]
  },
  {
   "cell_type": "markdown",
   "metadata": {},
   "source": [
    "In this first exercise I do not learn almost nothing, only the difference between the \"\" and the '', where and when used them if we are using both of them. Also the name of the # (octothorpe), but I knew that this character transform a code line into a comment line.\n",
    "Comments and Pound Characters(Octothorpe)\n",
    "Comments are useful for both, explaining the line of code or removing it temporarily. Explaining is important, when we are working in a project with other people and removing code when we are trying to detect failures or modify the behavior of our code.\n",
    "#A comment, this is so you can read your programm later.\n",
    "#Anything after the # is ignored by python.\n",
    "\n",
    "print(\"I could have code like this\") # and the comment after is ignored\n",
    "\n",
    "#You can also use comment to \"disable\" or comment out code;\n",
    "#print (\"This won't run.\")\n",
    "\n",
    "print(\"This will run.\")\n",
    "\n",
    "It is important to be aware of the fact that the code written won't be the same that will appear in the screen after runnning the program. Such a good tool to avoid hetting lost in extense codes.\n"
   ]
  },
  {
   "cell_type": "markdown",
   "metadata": {},
   "source": [
    "# NUMBERS AND MATH\n",
    "\n",
    "Maths are crutial in programming, but the maths used here are not that complex so it is needed a deep understanding of maths to code properly."
   ]
  },
  {
   "cell_type": "code",
   "execution_count": 36,
   "metadata": {},
   "outputs": [
    {
     "name": "stdout",
     "output_type": "stream",
     "text": [
      "I will now count my chickens\n",
      "Hens 30.0\n",
      "Roosters 97\n",
      "Now I will count my eggs:\n",
      "6.75\n",
      "Is this true that 3 + 2 < 5 - 7\n",
      "False\n",
      "What is 3 + 2? 5\n",
      "What is 5 - 7? -2\n",
      "Oh, that's why it's False.\n",
      "How about some more.\n",
      "Is it greater? True\n",
      "Is it greater or equal? True\n",
      "Is it less or equal? False\n"
     ]
    }
   ],
   "source": [
    "print(\"I will now count my chickens\")\n",
    "\n",
    "print(\"Hens\", 25 + 30 / 6)\n",
    "print(\"Roosters\", 100 - 25 * 3 % 4)\n",
    "\n",
    "print(\"Now I will count my eggs:\")\n",
    "\n",
    "print(3 + 2 + 1 -5 + 4 % 2 - 1 / 4 + 6)\n",
    "\n",
    "print(\"Is this true that 3 + 2 < 5 - 7\")\n",
    "\n",
    "print(3 + 2 < 5 - 7)\n",
    "\n",
    "print(\"What is 3 + 2?\", 3 + 2) \n",
    "print(\"What is 5 - 7?\", 5 - 7)\n",
    "\n",
    "print(\"Oh, that's why it's False.\")\n",
    "\n",
    "print(\"How about some more.\")\n",
    "\n",
    "print(\"Is it greater?\", 5 > -2) \n",
    "print(\"Is it greater or equal?\", 5 >= -2) \n",
    "print(\"Is it less or equal?\", 5 <= -2)\n"
   ]
  },
  {
   "cell_type": "markdown",
   "metadata": {},
   "source": [
    "And basiclly that is how the opperations work in python language. Something new for me, is what the operations <, >, <= and >= work. They give a \"True\" or \"False\" depending on the operations result.\n"
   ]
  },
  {
   "cell_type": "markdown",
   "metadata": {},
   "source": [
    "# VARIABLES AND NAMES\n",
    "\n",
    "Variables are simply the denomination of a value in a code. Is the key to save a value and then remember what does it contains.\n",
    "It is always suggested to put memorable names to variables, since it is important to remember what does it represent.\n"
   ]
  },
  {
   "cell_type": "code",
   "execution_count": 37,
   "metadata": {},
   "outputs": [
    {
     "name": "stdout",
     "output_type": "stream",
     "text": [
      "There are 100 cars available.\n",
      "There are only 30 drivers available.\n",
      "There will be 70 empty cars today.\n",
      "We can transport 120.0 people today.\n",
      "We have 90 to carpool today.\n",
      "We need to put about 3.0 in each car.\n"
     ]
    }
   ],
   "source": [
    "cars = 100\n",
    "space_in_a_car = 4.0 \n",
    "drivers = 30 \n",
    "passengers = 90 \n",
    "cars_not_driven = cars - drivers \n",
    "cars_driven = drivers \n",
    "carpool_capacity = cars_driven * space_in_a_car \n",
    "average_passengers_per_car = passengers / cars_driven\n",
    "\n",
    "print(\"There are\", cars, \"cars available.\") \n",
    "print(\"There are only\", drivers, \"drivers available.\") \n",
    "print(\"There will be\", cars_not_driven, \"empty cars today.\") \n",
    "print(\"We can transport\", carpool_capacity, \"people today.\") \n",
    "print(\"We have\", passengers, \"to carpool today.\") \n",
    "print(\"We need to put about\", average_passengers_per_car, \n",
    "\"in each car.\")\n"
   ]
  },
  {
   "cell_type": "markdown",
   "metadata": {},
   "source": [
    "Defining a variable and using the correct type of variable for the argument we want to save, it is important. Therefore, use the correct characters for each variable has the same importance. There are some differences between characters, such as = and ==. = is used to assign a value to a variable and == is used to compare to values.\n"
   ]
  },
  {
   "cell_type": "markdown",
   "metadata": {},
   "source": [
    "# MORE VARIABLES AND PRINTING\n",
    "\n",
    "Printing and varible making are two things that will be practiced in all the practices. In this particular case, teh \"format string\" was learnt with a simple code. A few variables were defined and then with the characters {} the \"value\" was summoned when it was needed. But to do so, a letter 'f' before the \"\" of the text we wanted to print was needed. Forgetting to add the 'f' would lead to a different ressult, it will print literally what we typed."
   ]
  },
  {
   "cell_type": "code",
   "execution_count": 38,
   "metadata": {},
   "outputs": [
    {
     "name": "stdout",
     "output_type": "stream",
     "text": [
      "Let's talk about Leo Jasso.\n",
      "He's 19 years old.\n",
      "He's 75 kilograms heavy\n",
      "He is very thin and tall\n",
      "He's got Dark Brown eyes and Dark  Brown hair\n",
      "His teeth are White unlesss he drinks several cups of tea\n",
      "He's always Friendly unless he hasn't slept well the night before\n"
     ]
    }
   ],
   "source": [
    "my_name = 'Leo Jasso'\n",
    "my_age = 19 # I am still a baby\n",
    "my_height = 1.80 # m\n",
    "my_weight = 75 # Kg\n",
    "my_eyes = 'Dark Brown'\n",
    "my_teeth = 'White'\n",
    "my_hair = 'Dark  Brown'\n",
    "my_mood = 'Friendly'\n",
    "\n",
    "print(f\"Let's talk about {my_name}.\")\n",
    "print(f\"He's {my_age} years old.\")\n",
    "print(f\"He's {my_weight} kilograms heavy\")\n",
    "print(\"He is very thin and tall\")\n",
    "print(f\"He's got {my_eyes} eyes and {my_hair} hair\")\n",
    "print(f\"His teeth are {my_teeth} unlesss he drinks several cups of tea\")\n",
    "print(f\"He's always {my_mood} unless he hasn't slept well the night before\")\n"
   ]
  },
  {
   "cell_type": "markdown",
   "metadata": {},
   "source": [
    "# STRINGS AND TEXT\n",
    "\n",
    "In this exercise we create bunches of variables with complex strings so you can see what they are for.\n"
   ]
  },
  {
   "cell_type": "code",
   "execution_count": 23,
   "metadata": {},
   "outputs": [
    {
     "name": "stdout",
     "output_type": "stream",
     "text": [
      "There are 10 types of people.\n",
      "those who know binary and those who don't.\n",
      "I said:There are 10 types of people.\n",
      "I also said:'those who know binary and those who don't.'\n",
      "Isn't that joke so funny?! False\n",
      "This is the left side of...a string with a right side.\n"
     ]
    }
   ],
   "source": [
    "Types_of_people = 10\n",
    "x = f\"There are {Types_of_people} types of people.\"\n",
    "\n",
    "binary = \"binary\"\n",
    "do_not = \"don't\"\n",
    "y = f\"those who know {binary} and those who {do_not}.\"\n",
    "\n",
    "print(x)\n",
    "print(y)\n",
    "\n",
    "print(f\"I said:{x}\")\n",
    "print(f\"I also said:'{y}'\")\n",
    "\n",
    "hilarious = False\n",
    "joke_evaluation =\"Isn't that joke so funny?! {}\"\n",
    "\n",
    "print(joke_evaluation.format(hilarious))\n",
    "\n",
    "w= \"This is the left side of...\"\n",
    "e= \"a string with a right side.\"\n",
    "\n",
    "print(w + e)"
   ]
  },
  {
   "cell_type": "markdown",
   "metadata": {},
   "source": [
    "From this exercise I learned how to code a whole bunch of strings, variables and formats, and print them.\n"
   ]
  },
  {
   "cell_type": "markdown",
   "metadata": {},
   "source": [
    "# MORE PRINTING\n",
    "\n",
    "In this exercise you only are going todo a bunch of exercises, type a code and make it run.\n"
   ]
  },
  {
   "cell_type": "code",
   "execution_count": 30,
   "metadata": {},
   "outputs": [
    {
     "name": "stdout",
     "output_type": "stream",
     "text": [
      "Jasso had a little lamb.\n",
      "Its fleece was white as snow.\n",
      "And everywhere that Jasso went.\n",
      "..........\n",
      "yes\n"
     ]
    }
   ],
   "source": [
    "print(\"Jasso had a little lamb.\")\n",
    "print(\"Its fleece was white as {}.\".format('snow'))\n",
    "print(\"And everywhere that Jasso went.\")\n",
    "print(\".\" * 10) # what'd that do?\n",
    "\n",
    "end1 = \"y\"\n",
    "end2 = \"e\"\n",
    "end3 = \"s\"\n",
    "\n",
    "# watch that comma at the end. try removing it to see what happens\n",
    "print(end1 + end2 + end3)"
   ]
  },
  {
   "cell_type": "markdown",
   "metadata": {},
   "source": [
    "In this exercise I learned to build up my chops.\n"
   ]
  },
  {
   "cell_type": "markdown",
   "metadata": {},
   "source": [
    "# PRINTING, PRINTING\n",
    "\n",
    "The purpose of this exercise is to do a more complicated formatting of a string.\n",
    "\n",
    "\n"
   ]
  },
  {
   "cell_type": "code",
   "execution_count": 31,
   "metadata": {},
   "outputs": [
    {
     "name": "stdout",
     "output_type": "stream",
     "text": [
      "1 2 3 4\n",
      "one two three four\n",
      "True False False True\n",
      "{} {} {} {} {} {} {} {} {} {} {} {} {} {} {} {}\n",
      "Try your own text here Maybe a poem Or a song aout fear\n"
     ]
    }
   ],
   "source": [
    "formatter = \"{} {} {} {}\"\n",
    "\n",
    "print(formatter.format(1, 2, 3, 4))\n",
    "print(formatter.format(\"one\", \"two\", \"three\", \"four\"))\n",
    "print(formatter.format(True, False, False, True))\n",
    "print(formatter.format(formatter, formatter, formatter, formatter))\n",
    "print(formatter.format(\n",
    "    \"Try your\",\n",
    "    \"own text here\",\n",
    "    \"Maybe a poem\",\n",
    "    \"Or a song aout fear\"\n",
    "))"
   ]
  },
  {
   "cell_type": "markdown",
   "metadata": {},
   "source": [
    "From this exercise I learned to code a more difficult formatting of a string.\n"
   ]
  },
  {
   "cell_type": "markdown",
   "metadata": {},
   "source": [
    "# PRINTING, PRINTING, PRINTING\n",
    "\n",
    "In this exercise you combine some of the other exercises in one."
   ]
  },
  {
   "cell_type": "code",
   "execution_count": 33,
   "metadata": {},
   "outputs": [
    {
     "name": "stdout",
     "output_type": "stream",
     "text": [
      "Here are the days:  Mon Tue Wed Thu Fri Sat Sun\n",
      "Here are the months:  Jan\n",
      "Feb\n",
      "Mar\n",
      "Apr\n",
      "May\n",
      "Jun\n",
      "Jul\n",
      "Aug\n",
      "\n",
      "There's something going on here.\n",
      "With the three double-quotes.\n",
      "We'll be able to type as much as we like.\n",
      "Even 4 lines if we want, or 5, or 6.\n",
      "\n"
     ]
    }
   ],
   "source": [
    "# here's  some new strange stuff, remember type it exactly.\n",
    "\n",
    "days = \"Mon Tue Wed Thu Fri Sat Sun\"\n",
    "months =\"Jan\\nFeb\\nMar\\nApr\\nMay\\nJun\\nJul\\nAug\"\n",
    "\n",
    "print(\"Here are the days: \", days)\n",
    "print(\"Here are the months: \", months)\n",
    "\n",
    "print(\"\"\"\n",
    "There's something going on here.\n",
    "With the three double-quotes.\n",
    "We'll be able to type as much as we like.\n",
    "Even 4 lines if we want, or 5, or 6.\n",
    "\"\"\")\n"
   ]
  },
  {
   "cell_type": "markdown",
   "metadata": {},
   "source": [
    "I learned two ways to make a string that goes across multiple lines."
   ]
  },
  {
   "cell_type": "markdown",
   "metadata": {},
   "source": [
    "# WHAT WAS THAT\n",
    "\n",
    "In this exercise you will apply some quotes, doble and triple-quotes."
   ]
  },
  {
   "cell_type": "code",
   "execution_count": 34,
   "metadata": {},
   "outputs": [
    {
     "name": "stdout",
     "output_type": "stream",
     "text": [
      "\tI'm tabbed in.\n",
      "I'm split\n",
      "on a line.\n",
      "I'm \\ a \\ cat.\n",
      "\"\n",
      "I'll do a list:\n",
      "\t* Cat food\n",
      "\t* Fishies\n",
      "\t* Catnip\n",
      "\t* Grass\n",
      "\n"
     ]
    }
   ],
   "source": [
    "tabby_cat = \"\\tI'm tabbed in.\"\n",
    "persian_cat = \"I'm split\\non a line.\"\n",
    "blacklash_cat = \"I'm \\\\ a \\\\ cat.\"\n",
    "\n",
    "fat_cat = \"\"\"\"\n",
    "I'll do a list:\n",
    "\\t* Cat food\n",
    "\\t* Fishies\n",
    "\\t* Catnip\\n\\t* Grass\n",
    "\"\"\"\n",
    "\n",
    "print(tabby_cat)\n",
    "print(persian_cat)\n",
    "print(blacklash_cat)\n",
    "print(fat_cat)"
   ]
  },
  {
   "cell_type": "markdown",
   "metadata": {},
   "source": [
    "From this exercise I learned  that an important escape secuence  is to scape a single-quote or double-quote."
   ]
  }
 ],
 "metadata": {
  "kernelspec": {
   "display_name": "Python 3",
   "language": "python",
   "name": "python3"
  },
  "language_info": {
   "codemirror_mode": {
    "name": "ipython",
    "version": 3
   },
   "file_extension": ".py",
   "mimetype": "text/x-python",
   "name": "python",
   "nbconvert_exporter": "python",
   "pygments_lexer": "ipython3",
   "version": "3.7.4"
  }
 },
 "nbformat": 4,
 "nbformat_minor": 2
}
