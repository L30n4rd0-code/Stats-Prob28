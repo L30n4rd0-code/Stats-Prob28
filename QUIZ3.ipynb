{
 "cells": [
  {
   "cell_type": "markdown",
   "metadata": {},
   "source": [
    "# QUIZ3"
   ]
  },
  {
   "cell_type": "raw",
   "metadata": {},
   "source": [
    "Develop a program that calculates the linear regression of a set of data introduced by the user. The program must show in the screen the equation obtained."
   ]
  },
  {
   "cell_type": "markdown",
   "metadata": {},
   "source": [
    "The following program was created using several commands available in Python, somes commands are: assignation of variables, mathematical operations, creation of arrays of n items and loops.\n",
    "First, the program ask for the amount of pair of values that we are going to introduce, then is needed to introduce such values.\n",
    "Then in a loop, each indivual sumatory needed for the calculation of the linear regression equation, we added a print command to check if each result was correct, after that loop the elements b1 and b0 were calculated.\n",
    "At last the program print how the linear regression equation if represented."
   ]
  },
  {
   "cell_type": "code",
   "execution_count": 1,
   "metadata": {},
   "outputs": [
    {
     "name": "stdout",
     "output_type": "stream",
     "text": [
      "How many values do you want to analize 2\n",
      "Introduce the x1 value 1\n",
      "Inroduce the y1 value 2\n",
      "Introduce the x2 value 3\n",
      "Inroduce the y2 value 2\n",
      "8\n",
      "4\n",
      "4\n",
      "10\n",
      "0.0\n",
      "2.0\n",
      "y= 2.0 + 0.0x\n"
     ]
    }
   ],
   "source": [
    "n = int(input(\"How many values do you want to analize \"))\n",
    "valuesx = []\n",
    "valuesy = []\n",
    "ts1 = 0\n",
    "ts2 = 0\n",
    "ts3 = 0\n",
    "ts4 = 0\n",
    "\n",
    "for i in range(0,n):\n",
    "    x = int(input(f\"Introduce the x{i+1} value \"))\n",
    "    valuesx.append(x)\n",
    "    y = int(input(f\"Inroduce the y{i+1} value \"))\n",
    "    valuesy.append(y)\n",
    "    \n",
    "for i in range(0,n):\n",
    "    s1 = valuesx[i] * valuesy[i]\n",
    "    ts1 = ts1 + s1\n",
    "    s2 = valuesx[i]\n",
    "    ts2 = ts2 + s2\n",
    "    s3 = valuesy[i]\n",
    "    ts3 = ts3 + s3\n",
    "    s4 = valuesx[i]*valuesx[i]\n",
    "    ts4 = ts4 + s4\n",
    "    \n",
    "print(ts1)\n",
    "print(ts2)\n",
    "print(ts3)\n",
    "print(ts4)\n",
    "\n",
    "b1 = (n * ts1 - (ts2 * ts3))/((n * ts4)- (ts2*ts2))\n",
    "print(b1)\n",
    "\n",
    "b0 = (ts3 - (b1 * ts2))/n\n",
    "print(b0)\n",
    "\n",
    "print(f\"y= {b0} + {b1}x\")"
   ]
  },
  {
   "cell_type": "markdown",
   "metadata": {},
   "source": [
    "3A Mechatronics: Gonzalez Graciano Diego Ivan,\n",
    "Govea Armengol Miguel Alejandro,\n",
    "Guerrero Chavez Erick Antonio,\n",
    "Jasso Medina Leonardo Daniel,"
   ]
  },
  {
   "cell_type": "code",
   "execution_count": null,
   "metadata": {},
   "outputs": [],
   "source": []
  }
 ],
 "metadata": {
  "kernelspec": {
   "display_name": "Python 3",
   "language": "python",
   "name": "python3"
  },
  "language_info": {
   "codemirror_mode": {
    "name": "ipython",
    "version": 3
   },
   "file_extension": ".py",
   "mimetype": "text/x-python",
   "name": "python",
   "nbconvert_exporter": "python",
   "pygments_lexer": "ipython3",
   "version": "3.7.3"
  }
 },
 "nbformat": 4,
 "nbformat_minor": 2
}
