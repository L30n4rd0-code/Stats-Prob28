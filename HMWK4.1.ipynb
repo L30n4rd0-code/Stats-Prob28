{
 "cells": [
  {
   "cell_type": "markdown",
   "metadata": {},
   "source": [
    "# Asking for a name from an array (Using for loop) "
   ]
  },
  {
   "cell_type": "raw",
   "metadata": {},
   "source": [
    "First is necessary to declare a variable which will be the maximum value of the range (people) of the first for loop, that will print 'people' times a message asking for the name of the person and will storage it in an array (names). Finally it prints message asking for what name from the array you want to see, basen on its numerical position. and then it prints it."
   ]
  },
  {
   "cell_type": "code",
   "execution_count": 1,
   "metadata": {},
   "outputs": [
    {
     "name": "stdout",
     "output_type": "stream",
     "text": [
      "How many people you want to register 5\n",
      "Introduce the people's name: YO\n",
      "Introduce the people's name: tu\n",
      "Introduce the people's name: el\n",
      "Introduce the people's name: ella\n",
      "Introduce the people's name: ellos\n",
      "Which name do you want to see: 4\n",
      "The name 4 is ellos\n"
     ]
    }
   ],
   "source": [
    "people = int(input(\"How many people you want to register \"))\n",
    "names = []\n",
    "\n",
    "\n",
    "for i in range(0, people):\n",
    "    x = input(\"Introduce the people's name: \")\n",
    "    names.append(x)\n",
    "    \n",
    "y = int(input(\"Which name do you want to see: \"))\n",
    "print(f\"The name {y} is {names[y]}\")"
   ]
  },
  {
   "cell_type": "code",
   "execution_count": null,
   "metadata": {},
   "outputs": [],
   "source": []
  }
 ],
 "metadata": {
  "kernelspec": {
   "display_name": "Python 3",
   "language": "python",
   "name": "python3"
  },
  "language_info": {
   "codemirror_mode": {
    "name": "ipython",
    "version": 3
   },
   "file_extension": ".py",
   "mimetype": "text/x-python",
   "name": "python",
   "nbconvert_exporter": "python",
   "pygments_lexer": "ipython3",
   "version": "3.7.3"
  }
 },
 "nbformat": 4,
 "nbformat_minor": 2
}
